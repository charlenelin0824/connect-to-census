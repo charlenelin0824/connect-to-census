{
 "cells": [
  {
   "cell_type": "markdown",
   "metadata": {},
   "source": [
    "## Basic imports"
   ]
  },
  {
   "cell_type": "code",
   "execution_count": 1,
   "metadata": {},
   "outputs": [
    {
     "name": "stderr",
     "output_type": "stream",
     "text": [
      "於啟動期間 - 警告訊息：\n",
      "1: Setting LC_COLLATE failed, using \"C\" \n",
      "2: Setting LC_TIME failed, using \"C\" \n",
      "3: Setting LC_MESSAGES failed, using \"C\" \n",
      "4: Setting LC_MONETARY failed, using \"C\" \n"
     ]
    }
   ],
   "source": [
    "%load_ext rpy2.ipython\n",
    "%load_ext autoreload\n",
    "%autoreload 2\n",
    "\n",
    "%matplotlib inline  \n",
    "from matplotlib import rcParams\n",
    "rcParams['figure.figsize'] = (16, 100)\n",
    "\n",
    "import warnings\n",
    "from rpy2.rinterface import RRuntimeWarning\n",
    "warnings.filterwarnings(\"ignore\") # Ignore all warnings\n",
    "# warnings.filterwarnings(\"ignore\", category=RRuntimeWarning) # Show some warnings\n",
    "\n",
    "import pandas as pd\n",
    "import numpy as np\n",
    "import matplotlib.pyplot as plt\n",
    "from IPython.display import display, HTML"
   ]
  },
  {
   "cell_type": "code",
   "execution_count": 2,
   "metadata": {},
   "outputs": [
    {
     "data": {
      "application/javascript": "// Disable auto-scrolling\nIPython.OutputArea.prototype._should_scroll = function(lines) {\n    return false;\n}\n",
      "text/plain": [
       "<IPython.core.display.Javascript object>"
      ]
     },
     "metadata": {},
     "output_type": "display_data"
    }
   ],
   "source": [
    "%%javascript\n",
    "// Disable auto-scrolling\n",
    "IPython.OutputArea.prototype._should_scroll = function(lines) {\n",
    "    return false;\n",
    "}"
   ]
  },
  {
   "cell_type": "code",
   "execution_count": 3,
   "metadata": {},
   "outputs": [
    {
     "name": "stdout",
     "output_type": "stream",
     "text": [
      "── Attaching core tidyverse packages ──────────────────────── tidyverse 2.0.0 ──\n",
      "✔ dplyr     1.1.4     ✔ readr     2.1.5\n",
      "✔ forcats   1.0.0     ✔ stringr   1.5.1\n",
      "✔ ggplot2   3.4.4     ✔ tibble    3.2.1\n",
      "✔ lubridate 1.9.3     ✔ tidyr     1.3.0\n",
      "✔ purrr     1.0.2     \n",
      "── Conflicts ────────────────────────────────────────── tidyverse_conflicts() ──\n",
      "✖ dplyr::filter() masks stats::filter()\n",
      "✖ dplyr::lag()    masks stats::lag()\n",
      "ℹ Use the conflicted package (<http://conflicted.r-lib.org/>) to force all conflicts to become errors\n"
     ]
    },
    {
     "data": {
      "text/plain": [
       "載入需要的套件：tidyverse\n"
      ]
     },
     "metadata": {},
     "output_type": "display_data"
    }
   ],
   "source": [
    "%%R\n",
    "\n",
    "# My commonly used R imports\n",
    "\n",
    "require('tidyverse')"
   ]
  },
  {
   "cell_type": "markdown",
   "metadata": {},
   "source": [
    "## Load the data"
   ]
  },
  {
   "cell_type": "code",
   "execution_count": 4,
   "metadata": {},
   "outputs": [
    {
     "name": "stdout",
     "output_type": "stream",
     "text": [
      "# A tibble: 4,870 × 152\n",
      "       GEOID State County Urban Pop2010 Housing_Units GroupQuartersFlag NUMGQTRS\n",
      "       <dbl> <chr> <chr>  <dbl>   <dbl>         <dbl>             <dbl>    <dbl>\n",
      " 1   3.60e10 New … Alban…     1    2139           784                 0       79\n",
      " 2   3.60e10 New … Alban…     1    6046          2514                 0       84\n",
      " 3   3.60e10 New … Alban…     1    5888          2581                 0      193\n",
      " 4   3.60e10 New … Alban…     1    2227          1017                 0      575\n",
      " 5   3.60e10 New … Alban…     1    4415          2196                 0       15\n",
      " 6   3.60e10 New … Alban…     1    5203            12                 1     5177\n",
      " 7   3.60e10 New … Alban…     1    3412          1559                 0      117\n",
      " 8   3.60e10 New … Alban…     1    3448           872                 0     1660\n",
      " 9   3.60e10 New … Alban…     1    3676          1409                 0      143\n",
      "10   3.60e10 New … Alban…     1    3821          1413                 0       14\n",
      "# ℹ 4,860 more rows\n",
      "# ℹ 144 more variables: PCTGQTRS <dbl>, Low_Income_1and10 <dbl>,\n",
      "#   `Low_Income_1/2and10` <dbl>, Low_Income_1and20 <dbl>,\n",
      "#   Low_Income_Vehicle <dbl>, HUNVFlag <dbl>, LowIncomeTracts <dbl>,\n",
      "#   PovertyRate <dbl>, MedianFamilyIncome <dbl>, LA1and10 <dbl>,\n",
      "#   LAhalfand10 <dbl>, LA1and20 <dbl>, LATracts_half <dbl>, LATracts1 <dbl>,\n",
      "#   LATracts10 <dbl>, LATracts20 <dbl>, LATractsVehicle_20 <dbl>, …\n",
      "# ℹ Use `print(n = ...)` to see more rows, and `colnames()` to see all variable names\n"
     ]
    }
   ],
   "source": [
    "%%R\n",
    " \n",
    "# Import data with R\n",
    "df <- read_csv('merged_food_access_data.csv', show_col_types = FALSE)\n",
    "df"
   ]
  },
  {
   "cell_type": "code",
   "execution_count": 5,
   "metadata": {},
   "outputs": [
    {
     "data": {
      "text/html": [
       "<div>\n",
       "<style scoped>\n",
       "    .dataframe tbody tr th:only-of-type {\n",
       "        vertical-align: middle;\n",
       "    }\n",
       "\n",
       "    .dataframe tbody tr th {\n",
       "        vertical-align: top;\n",
       "    }\n",
       "\n",
       "    .dataframe thead th {\n",
       "        text-align: right;\n",
       "    }\n",
       "</style>\n",
       "<table border=\"1\" class=\"dataframe\">\n",
       "  <thead>\n",
       "    <tr style=\"text-align: right;\">\n",
       "      <th></th>\n",
       "      <th>GEOID</th>\n",
       "      <th>State</th>\n",
       "      <th>County</th>\n",
       "      <th>Urban</th>\n",
       "      <th>Pop2010</th>\n",
       "      <th>Housing_Units</th>\n",
       "      <th>GroupQuartersFlag</th>\n",
       "      <th>NUMGQTRS</th>\n",
       "      <th>PCTGQTRS</th>\n",
       "      <th>Low_Income_1and10</th>\n",
       "      <th>...</th>\n",
       "      <th>TractAIAN</th>\n",
       "      <th>TractOMultir</th>\n",
       "      <th>TractHispanic</th>\n",
       "      <th>TractHUNV</th>\n",
       "      <th>TractSNAP</th>\n",
       "      <th>NAME</th>\n",
       "      <th>Population</th>\n",
       "      <th>Median Income</th>\n",
       "      <th>No Computer</th>\n",
       "      <th>No Internet</th>\n",
       "    </tr>\n",
       "  </thead>\n",
       "  <tbody>\n",
       "    <tr>\n",
       "      <th>0</th>\n",
       "      <td>36001000100</td>\n",
       "      <td>New York</td>\n",
       "      <td>Albany County</td>\n",
       "      <td>1</td>\n",
       "      <td>2139</td>\n",
       "      <td>784</td>\n",
       "      <td>0</td>\n",
       "      <td>79.0</td>\n",
       "      <td>3.69</td>\n",
       "      <td>1</td>\n",
       "      <td>...</td>\n",
       "      <td>9.0</td>\n",
       "      <td>173.0</td>\n",
       "      <td>198.0</td>\n",
       "      <td>179.0</td>\n",
       "      <td>276.0</td>\n",
       "      <td>Census Tract 1, Albany County, New York</td>\n",
       "      <td>2035.0</td>\n",
       "      <td>32389.0</td>\n",
       "      <td>126.0</td>\n",
       "      <td>83.0</td>\n",
       "    </tr>\n",
       "    <tr>\n",
       "      <th>1</th>\n",
       "      <td>36001000200</td>\n",
       "      <td>New York</td>\n",
       "      <td>Albany County</td>\n",
       "      <td>1</td>\n",
       "      <td>6046</td>\n",
       "      <td>2514</td>\n",
       "      <td>0</td>\n",
       "      <td>84.0</td>\n",
       "      <td>1.39</td>\n",
       "      <td>1</td>\n",
       "      <td>...</td>\n",
       "      <td>12.0</td>\n",
       "      <td>490.0</td>\n",
       "      <td>648.0</td>\n",
       "      <td>895.0</td>\n",
       "      <td>960.0</td>\n",
       "      <td>Census Tract 2, Albany County, New York</td>\n",
       "      <td>4793.0</td>\n",
       "      <td>27714.0</td>\n",
       "      <td>421.0</td>\n",
       "      <td>214.0</td>\n",
       "    </tr>\n",
       "    <tr>\n",
       "      <th>2</th>\n",
       "      <td>36001000300</td>\n",
       "      <td>New York</td>\n",
       "      <td>Albany County</td>\n",
       "      <td>1</td>\n",
       "      <td>5888</td>\n",
       "      <td>2581</td>\n",
       "      <td>0</td>\n",
       "      <td>193.0</td>\n",
       "      <td>3.28</td>\n",
       "      <td>1</td>\n",
       "      <td>...</td>\n",
       "      <td>19.0</td>\n",
       "      <td>515.0</td>\n",
       "      <td>615.0</td>\n",
       "      <td>708.0</td>\n",
       "      <td>554.0</td>\n",
       "      <td>Census Tract 3, Albany County, New York</td>\n",
       "      <td>6147.0</td>\n",
       "      <td>45272.0</td>\n",
       "      <td>335.0</td>\n",
       "      <td>281.0</td>\n",
       "    </tr>\n",
       "    <tr>\n",
       "      <th>3</th>\n",
       "      <td>36001000401</td>\n",
       "      <td>New York</td>\n",
       "      <td>Albany County</td>\n",
       "      <td>1</td>\n",
       "      <td>2227</td>\n",
       "      <td>1017</td>\n",
       "      <td>0</td>\n",
       "      <td>575.0</td>\n",
       "      <td>25.82</td>\n",
       "      <td>0</td>\n",
       "      <td>...</td>\n",
       "      <td>2.0</td>\n",
       "      <td>43.0</td>\n",
       "      <td>53.0</td>\n",
       "      <td>139.0</td>\n",
       "      <td>5.0</td>\n",
       "      <td>Census Tract 4.01, Albany County, New York</td>\n",
       "      <td>2362.0</td>\n",
       "      <td>74274.0</td>\n",
       "      <td>140.0</td>\n",
       "      <td>143.0</td>\n",
       "    </tr>\n",
       "    <tr>\n",
       "      <th>4</th>\n",
       "      <td>36001000403</td>\n",
       "      <td>New York</td>\n",
       "      <td>Albany County</td>\n",
       "      <td>1</td>\n",
       "      <td>4415</td>\n",
       "      <td>2196</td>\n",
       "      <td>0</td>\n",
       "      <td>15.0</td>\n",
       "      <td>0.34</td>\n",
       "      <td>0</td>\n",
       "      <td>...</td>\n",
       "      <td>5.0</td>\n",
       "      <td>153.0</td>\n",
       "      <td>201.0</td>\n",
       "      <td>437.0</td>\n",
       "      <td>286.0</td>\n",
       "      <td>Census Tract 4.03, Albany County, New York</td>\n",
       "      <td>4253.0</td>\n",
       "      <td>74426.0</td>\n",
       "      <td>308.0</td>\n",
       "      <td>304.0</td>\n",
       "    </tr>\n",
       "  </tbody>\n",
       "</table>\n",
       "<p>5 rows × 152 columns</p>\n",
       "</div>"
      ],
      "text/plain": [
       "         GEOID     State         County  Urban  Pop2010  Housing_Units  \\\n",
       "0  36001000100  New York  Albany County      1     2139            784   \n",
       "1  36001000200  New York  Albany County      1     6046           2514   \n",
       "2  36001000300  New York  Albany County      1     5888           2581   \n",
       "3  36001000401  New York  Albany County      1     2227           1017   \n",
       "4  36001000403  New York  Albany County      1     4415           2196   \n",
       "\n",
       "   GroupQuartersFlag  NUMGQTRS  PCTGQTRS  Low_Income_1and10  ...  TractAIAN  \\\n",
       "0                  0      79.0      3.69                  1  ...        9.0   \n",
       "1                  0      84.0      1.39                  1  ...       12.0   \n",
       "2                  0     193.0      3.28                  1  ...       19.0   \n",
       "3                  0     575.0     25.82                  0  ...        2.0   \n",
       "4                  0      15.0      0.34                  0  ...        5.0   \n",
       "\n",
       "   TractOMultir  TractHispanic  TractHUNV  TractSNAP  \\\n",
       "0         173.0          198.0      179.0      276.0   \n",
       "1         490.0          648.0      895.0      960.0   \n",
       "2         515.0          615.0      708.0      554.0   \n",
       "3          43.0           53.0      139.0        5.0   \n",
       "4         153.0          201.0      437.0      286.0   \n",
       "\n",
       "                                         NAME  Population  Median Income  \\\n",
       "0     Census Tract 1, Albany County, New York      2035.0        32389.0   \n",
       "1     Census Tract 2, Albany County, New York      4793.0        27714.0   \n",
       "2     Census Tract 3, Albany County, New York      6147.0        45272.0   \n",
       "3  Census Tract 4.01, Albany County, New York      2362.0        74274.0   \n",
       "4  Census Tract 4.03, Albany County, New York      4253.0        74426.0   \n",
       "\n",
       "   No Computer  No Internet  \n",
       "0        126.0         83.0  \n",
       "1        421.0        214.0  \n",
       "2        335.0        281.0  \n",
       "3        140.0        143.0  \n",
       "4        308.0        304.0  \n",
       "\n",
       "[5 rows x 152 columns]"
      ]
     },
     "execution_count": 5,
     "metadata": {},
     "output_type": "execute_result"
    }
   ],
   "source": [
    "# Import data in python\n",
    "df = pd.read_csv('merged_food_access_data.csv')\n",
    "df.head()"
   ]
  },
  {
   "cell_type": "markdown",
   "metadata": {},
   "source": [
    "1. Write the null and alternative hypothesis\n",
    "2. Make a chart of the distributions you’re comparing\n",
    "3. Run the t-test or chi-squared test\n",
    "4. Interpret the result"
   ]
  },
  {
   "cell_type": "markdown",
   "metadata": {},
   "source": [
    "### Question 1: Do low-income tracts (discrete variable) tend to have more black population share (continuous variable)?\n",
    "- Null Hypothesis: There is no difference between low-income (variable=1) tracts and non-low-income (variable=0) tracts in terms of their black population share (lablack1share)\n",
    "- Alternative Hypothesis: There is a difference"
   ]
  },
  {
   "cell_type": "code",
   "execution_count": 6,
   "metadata": {},
   "outputs": [
    {
     "name": "stdout",
     "output_type": "stream",
     "text": [
      "\n",
      "\tWelch Two Sample t-test\n",
      "\n",
      "data:  df$lablack1share by df$LowIncomeTracts\n",
      "t = -4.3889, df = 646.47, p-value = 1.33e-05\n",
      "alternative hypothesis: true difference in means between group 0 and group 1 is not equal to 0\n",
      "95 percent confidence interval:\n",
      " -2.847664 -1.087174\n",
      "sample estimates:\n",
      "mean in group 0 mean in group 1 \n",
      "       1.841915        3.809333 \n",
      "\n"
     ]
    }
   ],
   "source": [
    "%%R\n",
    "# Conduct a T-test in R for \"lablack1share\" for \"LowIncomeTracts\"=1 and \"LowIncomeTracts\"=0\n",
    "t.test(df$lablack1share ~ df$LowIncomeTracts)"
   ]
  },
  {
   "cell_type": "markdown",
   "metadata": {},
   "source": [
    "### Result: there is a significant difference in the proportion of black residents in low income tracts and non-low income tracts"
   ]
  },
  {
   "cell_type": "markdown",
   "metadata": {},
   "source": [
    "### Question 2: Do low-access tracts with more than 80% white population (lawhite1share>0.8) tend to have vehicle access (HUNVFlag=0)?\n",
    "- Null hypothesis: there is no difference interms of white populationbetween low-vehicle access tracts and tracts with vehicle access \n",
    "- Alternative: there is a difference"
   ]
  },
  {
   "cell_type": "code",
   "execution_count": 12,
   "metadata": {},
   "outputs": [
    {
     "name": "stdout",
     "output_type": "stream",
     "text": [
      "# A tibble: 937 × 152\n",
      "       GEOID State County Urban Pop2010 Housing_Units GroupQuartersFlag NUMGQTRS\n",
      "       <dbl> <chr> <chr>  <dbl>   <dbl>         <dbl>             <dbl>    <dbl>\n",
      " 1   3.60e10 New … Alban…     1    2139           784                 0       79\n",
      " 2   3.60e10 New … Alban…     1    6046          2514                 0       84\n",
      " 3   3.60e10 New … Alban…     1    5888          2581                 0      193\n",
      " 4   3.60e10 New … Alban…     1    2227          1017                 0      575\n",
      " 5   3.60e10 New … Alban…     1    5203            12                 1     5177\n",
      " 6   3.60e10 New … Alban…     1    6579          3246                 0      105\n",
      " 7   3.60e10 New … Alban…     1    3816          1973                 0       16\n",
      " 8   3.60e10 New … Alban…     1    6545          2852                 0      181\n",
      " 9   3.60e10 New … Alban…     1    2430          1111                 0        0\n",
      "10   3.60e10 New … Alban…     1    4277          1815                 0       15\n",
      "# ℹ 927 more rows\n",
      "# ℹ 144 more variables: PCTGQTRS <dbl>, Low_Income_1and10 <dbl>,\n",
      "#   `Low_Income_1/2and10` <dbl>, Low_Income_1and20 <dbl>,\n",
      "#   Low_Income_Vehicle <dbl>, HUNVFlag <dbl>, LowIncomeTracts <dbl>,\n",
      "#   PovertyRate <dbl>, MedianFamilyIncome <dbl>, LA1and10 <dbl>,\n",
      "#   LAhalfand10 <dbl>, LA1and20 <dbl>, LATracts_half <dbl>, LATracts1 <dbl>,\n",
      "#   LATracts10 <dbl>, LATracts20 <dbl>, LATractsVehicle_20 <dbl>, …\n",
      "# ℹ Use `print(n = ...)` to see more rows, and `colnames()` to see all variable names\n"
     ]
    }
   ],
   "source": [
    "%%R\n",
    "# filter the data for LA1and10=1\n",
    "df_low_access <- df %>% filter(LA1and10==1)\n",
    "df_low_access\n"
   ]
  },
  {
   "cell_type": "code",
   "execution_count": 13,
   "metadata": {},
   "outputs": [
    {
     "name": "stdout",
     "output_type": "stream",
     "text": [
      "\n",
      "\tWelch Two Sample t-test\n",
      "\n",
      "data:  df_low_access$lawhite1share by df_low_access$HUNVFlag\n",
      "t = 4.4769, df = 638.53, p-value = 8.97e-06\n",
      "alternative hypothesis: true difference in means between group 0 and group 1 is not equal to 0\n",
      "95 percent confidence interval:\n",
      "  4.703596 12.053851\n",
      "sample estimates:\n",
      "mean in group 0 mean in group 1 \n",
      "       51.79356        43.41484 \n",
      "\n"
     ]
    }
   ],
   "source": [
    "%%R\n",
    "\n",
    "# in df_low_access, conduct a T-test for \"lawhite1share\" for \"HUNVFlag=0\" and \"HUNVFlag=1\"\n",
    "t.test(df_low_access$lawhite1share ~ df_low_access$HUNVFlag)\n"
   ]
  },
  {
   "cell_type": "markdown",
   "metadata": {},
   "source": [
    "### Result: The p-value is less than 0.05, so we reject the null hypothesis that the two groups have no difference.\n",
    "### White populated (>80%) low-acess tracts tend to have a difference in terms of vehicle access"
   ]
  }
 ],
 "metadata": {
  "kernelspec": {
   "display_name": "Python 3",
   "language": "python",
   "name": "python3"
  },
  "language_info": {
   "codemirror_mode": {
    "name": "ipython",
    "version": 3
   },
   "file_extension": ".py",
   "mimetype": "text/x-python",
   "name": "python",
   "nbconvert_exporter": "python",
   "pygments_lexer": "ipython3",
   "version": "3.11.6"
  }
 },
 "nbformat": 4,
 "nbformat_minor": 2
}
